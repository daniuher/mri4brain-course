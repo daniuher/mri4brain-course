{
  "cells": [
    {
      "cell_type": "markdown",
      "metadata": {
        "id": "OI3gfXcLQc6_"
      },
      "source": [
        "# **5XSM0 - MRI for brain**\n",
        "In this lab we will load and preprocess functional MRI (fMRI) images. Subsequently, the corrected images can be used to extract default-mode network (DMN) activation.\n",
        "\n",
        "Goals for this lab are:\n",
        "  - Correct for EPI distortions (using FSL's topup)\n",
        "  - Correct for subject motion (using FSL's mcflirt)\n",
        "  - Correct for nuisance (using FSL's reg_filt)\n",
        "  - Extract DMN activity\n",
        "\n"
      ]
    },
    {
      "cell_type": "markdown",
      "metadata": {
        "id": "iODSXLt0SCgU"
      },
      "source": [
        "First, we must set up a googlecolab environment, run the following code snippet (may take a few minutes):"
      ]
    },
    {
      "cell_type": "code",
      "execution_count": null,
      "metadata": {
        "id": "mjneTBERm2MV"
      },
      "outputs": [],
      "source": [
        "import os\n",
        "os.environ[\"LD_PRELOAD\"] = \"\";\n",
        "os.environ[\"APPTAINER_BINDPATH\"] = \"/content\"\n",
        "os.environ[\"MPLCONFIGDIR\"] = \"/content/matplotlib-mpldir\"\n",
        "os.environ[\"LMOD_CMD\"] = \"/usr/share/lmod/lmod/libexec/lmod\"\n",
        "\n",
        "!curl -J -O https://raw.githubusercontent.com/NeuroDesk/neurocommand/main/googlecolab_setup.sh\n",
        "!chmod +x googlecolab_setup.sh\n",
        "!./googlecolab_setup.sh\n",
        "\n",
        "os.environ[\"MODULEPATH\"] = ':'.join(map(str, list(map(lambda x: os.path.join(os.path.abspath('/cvmfs/neurodesk.ardc.edu.au/neurodesk-modules/'), x),os.listdir('/cvmfs/neurodesk.ardc.edu.au/neurodesk-modules/')))))"
      ]
    },
    {
      "cell_type": "markdown",
      "metadata": {
        "id": "ik4TNosdTjlX"
      },
      "source": [
        "Next, we must load the FSL module, allowing us to use all the FSL-functions.\n",
        "\n",
        "FSL is a library of analysis tools for FMRI, MRI and DTI brain imaging data ([FSL website](https://fsl.fmrib.ox.ac.uk/fsl/fslwiki))."
      ]
    },
    {
      "cell_type": "code",
      "execution_count": 16,
      "metadata": {
        "id": "3xRm6NxQxfO6",
        "colab": {
          "base_uri": "https://localhost:8080/"
        },
        "outputId": "3cb83819-9bd5-42f8-fba6-76c1182cd905"
      },
      "outputs": [
        {
          "output_type": "stream",
          "name": "stdout",
          "text": [
            "\n",
            "The following have been reloaded with a version change:\n",
            "  1) fsl/6.0.4 => fsl/6.0.7.1\n",
            "\n",
            "\n"
          ]
        },
        {
          "output_type": "execute_result",
          "data": {
            "text/plain": [
              "['fmriprep/21.0.1', 'fsl/6.0.7.1']"
            ]
          },
          "metadata": {},
          "execution_count": 16
        }
      ],
      "source": [
        "import lmod\n",
        "await lmod.avail()\n",
        "await lmod.load('fsl/6.0.7.1')\n",
        "await lmod.list()"
      ]
    },
    {
      "cell_type": "code",
      "source": [
        "%%bash\n",
        "pip install dipy"
      ],
      "metadata": {
        "colab": {
          "base_uri": "https://localhost:8080/"
        },
        "id": "2vJTZ0boCFOQ",
        "outputId": "8bf5eaf7-40f0-4990-8ef0-4c23ce3f71d0"
      },
      "execution_count": null,
      "outputs": [
        {
          "output_type": "stream",
          "name": "stdout",
          "text": [
            "Collecting dipy\n",
            "  Downloading dipy-1.7.0-cp310-cp310-manylinux_2_17_x86_64.manylinux2014_x86_64.whl (8.7 MB)\n",
            "     ━━━━━━━━━━━━━━━━━━━━━━━━━━━━━━━━━━━━━━━━ 8.7/8.7 MB 12.3 MB/s eta 0:00:00\n",
            "Requirement already satisfied: scipy>=1.1 in /usr/local/lib/python3.10/dist-packages (from dipy) (1.10.1)\n",
            "Requirement already satisfied: nibabel>=3.0.0 in /usr/local/lib/python3.10/dist-packages (from dipy) (4.0.2)\n",
            "Requirement already satisfied: h5py>=2.8.0 in /usr/local/lib/python3.10/dist-packages (from dipy) (3.8.0)\n",
            "Requirement already satisfied: tqdm>=4.30.0 in /usr/local/lib/python3.10/dist-packages (from dipy) (4.65.0)\n",
            "Requirement already satisfied: numpy>=1.14.5 in /usr/local/lib/python3.10/dist-packages (from h5py>=2.8.0->dipy) (1.23.5)\n",
            "Requirement already satisfied: packaging>=17.0 in /usr/local/lib/python3.10/dist-packages (from nibabel>=3.0.0->dipy) (23.1)\n",
            "Requirement already satisfied: setuptools in /usr/local/lib/python3.10/dist-packages (from nibabel>=3.0.0->dipy) (67.7.2)\n",
            "Installing collected packages: dipy\n",
            "Successfully installed dipy-1.7.0\n"
          ]
        }
      ]
    },
    {
      "cell_type": "markdown",
      "metadata": {
        "id": "X9n3liKsT5ug"
      },
      "source": [
        "Next, we will download some open-source fMRI dataset from GitHub (may take a few minutes). In this case, a dataset from the OpenNeuroDatasets."
      ]
    },
    {
      "cell_type": "code",
      "execution_count": null,
      "metadata": {
        "id": "tK6717HKnk1y"
      },
      "outputs": [],
      "source": [
        "%%bash\n",
        "# download data\n",
        "git config --global user.name \"GSDrenthen\"\n",
        "git config --global user.email \"g.s.drenthen@gmail.com\"\n",
        "datalad install https://github.com/OpenNeuroDatasets/ds004215.git\n",
        "cd ds004215 && datalad get sub-ON05530/ses-01/func"
      ]
    },
    {
      "cell_type": "markdown",
      "metadata": {
        "id": "oIUOawqWT49k"
      },
      "source": [
        "Check the contents of the downloaded subject\n"
      ]
    },
    {
      "cell_type": "code",
      "execution_count": null,
      "metadata": {
        "id": "pbgL6uj_mjsJ"
      },
      "outputs": [],
      "source": [
        "%%bash\n",
        "echo $'Content of subject folder'\n",
        "cd /content/ds004215/sub-ON05530/\n",
        "tree"
      ]
    },
    {
      "cell_type": "code",
      "execution_count": null,
      "metadata": {
        "id": "B0r7eh06v67v"
      },
      "outputs": [],
      "source": [
        "import nibabel as nib\n",
        "import numpy as np\n",
        "from matplotlib import transforms\n",
        "from scipy import ndimage\n",
        "import pickle\n",
        "import matplotlib.pyplot as plt\n",
        "\n",
        "# load data\n",
        "\n",
        "def view_slices_3d(image_3d, slice_nbr, vmin, vmax, title=''):\n",
        "  fig = plt.figure(figsize=(15, 4))\n",
        "  plt.suptitle(title, fontsize=10)\n",
        "\n",
        "  plt.subplot(131)\n",
        "  plt.imshow(np.take(image_3d[:,:,:,0], slice_nbr, 2), vmin=vmin, vmax=vmax, cmap='gray')\n",
        "  plt.title('Axial');\n",
        "\n",
        "  plt.subplot(132)\n",
        "  image_rot = ndimage.rotate(np.take(image_3d[:,:,:,0], slice_nbr, 1),90)\n",
        "  plt.imshow(image_rot, vmin=vmin, vmax=vmax, cmap='gray')\n",
        "  plt.title('Coronal');\n",
        "\n",
        "  plt.subplot(133)\n",
        "  image_rot = ndimage.rotate(np.take(image_3d[:,:,:,0], slice_nbr, 0),90)\n",
        "  plt.imshow(image_rot, vmin=vmin, vmax=vmax, cmap='gray')\n",
        "  plt.title('Sagittal');\n",
        "  cbar=plt.colorbar()\n",
        "\n",
        "forward = nib.load('/content/ds004215/sub-ON05530/ses-01/func/sub-ON05530_ses-01_task-rest_dir-forward_bold.nii.gz').get_fdata()\n",
        "reverse = nib.load('/content/ds004215/sub-ON05530/ses-01/func/sub-ON05530_ses-01_task-rest_dir-reverse_bold.nii.gz').get_fdata()\n",
        "diffim = np.expand_dims(forward[:,:,:,0]-reverse[:,:,:,0], -1)\n",
        "view_slices_3d(forward, slice_nbr=20, vmin=0, vmax=6000, title='forward fMRI scan')\n",
        "view_slices_3d(reverse, slice_nbr=20, vmin=0, vmax=6000, title='reverse fMRI scan')\n",
        "view_slices_3d(diffim, slice_nbr=20, vmin=0, vmax=6000, title='difference image - the highlights indicate the areas suffering from the distortions')\n"
      ]
    },
    {
      "cell_type": "code",
      "execution_count": null,
      "metadata": {
        "id": "0YPUO0lNnCtM"
      },
      "outputs": [],
      "source": [
        "%%bash\n",
        "readouttime_Reverse=$(grep -A0 \"TotalReadoutTime\" /content/ds004215/sub-ON05530/ses-01/func/sub-ON05530_ses-01_task-rest_dir-forward_bold.json | grep -o \"[0-9]*\\.[0-9]*\")\n",
        "readouttime=$(grep -A0 \"TotalReadoutTime\" /content/ds004215/sub-ON05530/ses-01/func/sub-ON05530_ses-01_task-rest_dir-reverse_bold.json | grep -o \"[0-9]*\\.[0-9]*\")\n",
        "echo -e \"-1 0 0 $readouttime\\n1 0 0 $readouttime_Reverse\" > acquisitionsParameters.txt\n",
        "\n",
        "ls -a"
      ]
    },
    {
      "cell_type": "code",
      "execution_count": null,
      "metadata": {
        "id": "KDQoD-Z4vAOe"
      },
      "outputs": [],
      "source": [
        "%%bash\n",
        "fslroi /content/ds004215/sub-ON05530/ses-01/func/sub-ON05530_ses-01_task-rest_dir-forward_bold.nii forward.nii 0 1\n",
        "fslroi /content/ds004215/sub-ON05530/ses-01/func/sub-ON05530_ses-01_task-rest_dir-reverse_bold.nii reverse.nii 0 1\n",
        "fslmerge -t for_rev.nii forward.nii reverse.nii\n",
        "\n",
        "topup \\\n",
        "--imain=for_rev.nii \\\n",
        "--datain=acquisitionsParameters.txt \\\n",
        "--config=b02b0.cnf \\\n",
        "--fout=fmap.nii \\\n",
        "--iout=fmrigood.nii \\\n",
        "--out=topup_for_rev\n",
        "\n",
        "applytopup \\\n",
        "--imain=/content/ds004215/sub-ON05530/ses-01/func/sub-ON05530_ses-01_task-rest_dir-forward_bold.nii \\\n",
        "--inindex=1 \\\n",
        "--datain=acquisitionsParameters.txt \\\n",
        "--topup=topup_for_rev \\\n",
        "--method=jac --interp=spline \\\n",
        "--out=fmri_corr.nii"
      ]
    },
    {
      "cell_type": "code",
      "execution_count": null,
      "metadata": {
        "id": "D0JtSXYQwxcB"
      },
      "outputs": [],
      "source": [
        "good = nib.load('fmri_corr.nii.gz').get_fdata()\n",
        "view_slices_3d(good, slice_nbr=20, vmin=0, vmax=6000, title='Corrected fMRI scan')\n",
        "view_slices_3d(forward, slice_nbr=20, vmin=0, vmax=6000, title='Uncorrected fMRI scan')"
      ]
    },
    {
      "cell_type": "code",
      "execution_count": null,
      "metadata": {
        "id": "zzu-t-cMbWjc"
      },
      "outputs": [],
      "source": [
        "%%bash\n",
        "mcflirt -in fmri_corr.nii -plots"
      ]
    },
    {
      "cell_type": "code",
      "execution_count": null,
      "metadata": {
        "id": "KvflKEqmfnPS"
      },
      "outputs": [],
      "source": [
        "%%bash\n",
        "ls -a"
      ]
    },
    {
      "cell_type": "code",
      "execution_count": null,
      "metadata": {
        "id": "MDHKGhG3fz6E"
      },
      "outputs": [],
      "source": [
        "mcgood = nib.load('fmri_corr_mcf.nii.gz').get_fdata()\n",
        "view_slices_3d(good, slice_nbr=20, vmin=0, vmax=6000, title='Corrected fMRI scan')\n",
        "view_slices_3d(mcgood, slice_nbr=20, vmin=0, vmax=6000, title='Motion corrected fMRI scan')"
      ]
    },
    {
      "cell_type": "code",
      "execution_count": null,
      "metadata": {
        "id": "GshKih4BgQH-"
      },
      "outputs": [],
      "source": [
        "plt.plot(mcgood[20,20,20,5:200])\n",
        "plt.plot(good[20,20,20,5:200])"
      ]
    },
    {
      "cell_type": "code",
      "execution_count": null,
      "metadata": {
        "id": "sKx-vEAElCL3"
      },
      "outputs": [],
      "source": [
        "mp6=np.loadtxt('/content/fmri_corr_mcf.par')\n",
        "plt.plot(mp6[:,0])\n",
        "plt.plot(mp6[:,1])\n",
        "plt.plot(mp6[:,2])"
      ]
    },
    {
      "cell_type": "code",
      "source": [
        "plt.plot(mp6[:,3])\n",
        "plt.plot(mp6[:,4])\n",
        "plt.plot(mp6[:,5])"
      ],
      "metadata": {
        "id": "rgeDFk7pH5fp"
      },
      "execution_count": null,
      "outputs": []
    },
    {
      "cell_type": "markdown",
      "metadata": {
        "id": "dqtWP8Zq2CPp"
      },
      "source": [
        "## **Frequency analysis**\n",
        "One of the most important properties of any signal is its frequency and phase distribution. More commonly, especially in the context of fMRI, we are interested in the various frequencies which comprise the measured fMRI signal.\n",
        "To obtain the frequency information about a signal,  we apply the Fourier transform. Let's take a look at the differences before and after motion correction"
      ]
    },
    {
      "cell_type": "code",
      "execution_count": null,
      "metadata": {
        "id": "VmtT8Ngd2Y97"
      },
      "outputs": [],
      "source": [
        "fft_good = np.fft.fft(good[20,20,20,10:])\n",
        "fft_mcgood = np.fft.fft(mcgood[20,20,20,10:])\n",
        "\n",
        "# prepare the x axis in Hz\n",
        "fs = 1/3 #Hz\n",
        "sample_length = fft_good.shape[0]\n",
        "x_axis = np.linspace(0, fs, sample_length)"
      ]
    },
    {
      "cell_type": "code",
      "execution_count": null,
      "metadata": {
        "id": "CWgBGzVq9hee"
      },
      "outputs": [],
      "source": [
        "# plot the \"good\" frequencies according to nyquist\n",
        "plt.figure(figsize=(15,6))\n",
        "plt.subplot(121)\n",
        "plt.plot(x_axis[1:95], np.square(np.abs(fft_good[1:95])))\n",
        "plt.plot(x_axis[1:95], np.square(np.abs(fft_mcgood[1:95])))\n",
        "\n",
        "plt.xlabel(\"Frequency [Hz]\")\n",
        "plt.legend([\"previous fMRI signal\",\"motion-corrected fMRI signal\"])\n",
        "\n",
        "# plot only the spectrum for 0.01-0.10\n",
        "sub_x_axis = np.where((x_axis>0.01) & (x_axis<0.1))\n",
        "plt.subplot(122)\n",
        "plt.plot(x_axis[sub_x_axis], np.abs(fft_good[sub_x_axis]))\n",
        "plt.plot(x_axis[sub_x_axis], np.abs(fft_mcgood[sub_x_axis]))\n",
        "plt.axhline(y=np.mean(np.abs(fft_good[sub_x_axis])), color='r', linestyle='--')\n",
        "plt.axhline(y=np.mean(np.abs(fft_mcgood[sub_x_axis])), color='g', linestyle='--')\n",
        "plt.legend([\"fMRI signal\",\n",
        "           \"motion-corrected fMRI signal\",\n",
        "           \"mean fMRI signal\",\n",
        "           \"mean motion-corrected fMRI signal\"])"
      ]
    },
    {
      "cell_type": "markdown",
      "metadata": {
        "id": "lX59j4LSIMT4"
      },
      "source": [
        "### ALFF & fALFF\n",
        "One standard approach to extract information is to take a look at the ratio in power of a certain frequency band against the total signal power.\n",
        "\n",
        "Usually, the band 0.01-0.1 is thought to reflect the neuronal activations. This band encapsulates the slow-5, slow-4 and partially slow-3 frequencies which were identified previously to be of neuronal oscillatory origin ([Gohel et al 2015](https://www.ncbi.nlm.nih.gov/pmc/articles/PMC4313418/)). The fMRI otherwise contains multiple other sources of noise, notably cardiac and respiratory.\n",
        "\n",
        "#### fALFF\n",
        "In order to reduce the effect of the physiological noise on the ALFF values, we can devide the ALFF by the total power of the entire measurable spectrum\n",
        "\n"
      ]
    },
    {
      "cell_type": "code",
      "execution_count": null,
      "metadata": {
        "id": "DW4bPKcY9qt-"
      },
      "outputs": [],
      "source": [
        "# Calculate ALFF\n",
        "fmridat = mcgood[:,:,:,10:]\n",
        "freq_steps = np.fft.fftfreq(fmridat.shape[-1], 1/fs) # this is the same as we calculated before for the x_axis manually\n",
        "\n",
        "fmri2d = np.reshape(fmridat, (np.prod(fmridat.shape[0:3]), fmridat.shape[-1] ), 'F')\n",
        "fft_fmri2d = np.abs(np.fft.fft(fmri2d, axis=-1)) # should be squared?\n",
        "\n",
        "low_freq = 0.01\n",
        "high_freq = 0.1\n",
        "\n",
        "freq_mask = np.logical_and(freq_steps >= low_freq, freq_steps <= high_freq)\n",
        "alff = np.mean(fft_fmri2d[:, freq_mask], axis=-1)\n",
        "\n",
        "\n",
        "# fALFF\n",
        "total_power = np.sum(fft_fmri2d[:, freq_steps > 0], axis=-1)\n",
        "falff = np.divide(alff, total_power, out=np.zeros_like(alff), where=total_power!=0) # this instead of just alff/total_power is to avoid warnings and delays due to divisions by zero\n",
        "\n",
        "\n",
        "# reshape and view\n",
        "alff = np.reshape(alff, fmridat.shape[:-1])\n",
        "falff = np.reshape(falff, fmridat.shape[:-1])\n"
      ]
    },
    {
      "cell_type": "code",
      "execution_count": null,
      "metadata": {
        "id": "HP7uyZdLDcSc"
      },
      "outputs": [],
      "source": [
        "view_slices_3d(np.expand_dims(alff, -1), slice_nbr=20, vmin=0, vmax=500, title='Corrected fMRI scan')\n",
        "view_slices_3d(np.expand_dims(falff, -1), slice_nbr=20, vmin=0, vmax=0.05, title='Corrected fMRI scan')"
      ]
    },
    {
      "cell_type": "markdown",
      "metadata": {
        "id": "DQ5dM2glf43q"
      },
      "source": [
        "## ReHo\n",
        "One of the main concepts for analyzing the fMRI data is correlation. We would like to establish which voxels or areas correlate with each other in terms of the fMRI activity over time. If the correlation is high, we can assume that those voxels and regions are functionally connected.\n",
        "\n",
        "Regional homoegeneity can be viewed as a special type of correlation analysis. To calculate ReHo, we take a look at the correlations between adjacent voxels. We might assume that voxels close to each other will be intrinsicely correlated, which is true (note: add a seed-based voxel connectivity). However, abnormal localized synchornicity (i.e. significant correlation of the adjacent voxels) can indicate neuronal abnormality and underlying pathology\n",
        ". This has been studied in multiple diseases and shown to yield promising diagnostic results (add refs)\n",
        "\n",
        "The standard way of calculating ReHo is to use the Kendall's coefficient of concordance which basically measures how a group of raters (in here a group of voxels) agree with each other in terms of evaluating something (in here the activity over time). Unlike standard Pearson or Spearman, Kendall ranges from 0 to 1 which is makes the interpretation easier."
      ]
    },
    {
      "cell_type": "code",
      "source": [],
      "metadata": {
        "id": "zQR8G2HpBTnd"
      },
      "execution_count": null,
      "outputs": []
    }
  ],
  "metadata": {
    "colab": {
      "provenance": [],
      "toc_visible": true
    },
    "kernelspec": {
      "display_name": "Python 3",
      "name": "python3"
    },
    "language_info": {
      "name": "python"
    }
  },
  "nbformat": 4,
  "nbformat_minor": 0
}